{
  "nbformat": 4,
  "nbformat_minor": 0,
  "metadata": {
    "colab": {
      "provenance": [],
      "authorship_tag": "ABX9TyM9Faq3JGbW9TinS708Dgrq",
      "include_colab_link": true
    },
    "kernelspec": {
      "name": "python3",
      "display_name": "Python 3"
    },
    "language_info": {
      "name": "python"
    }
  },
  "cells": [
    {
      "cell_type": "markdown",
      "metadata": {
        "id": "view-in-github",
        "colab_type": "text"
      },
      "source": [
        "<a href=\"https://colab.research.google.com/github/Dansah2/Udacity_Tutorials/blob/main/Udacity_NLP_Improve_Embedding_Sentiment.ipynb\" target=\"_parent\"><img src=\"https://colab.research.google.com/assets/colab-badge.svg\" alt=\"Open In Colab\"/></a>"
      ]
    },
    {
      "cell_type": "code",
      "execution_count": 5,
      "metadata": {
        "id": "9qHceJhw-Yso"
      },
      "outputs": [],
      "source": [
        "import tensorflow as tf\n",
        "\n",
        "from tensorflow.keras.preprocessing.text import Tokenizer\n",
        "from tensorflow.keras.preprocessing.sequence import pad_sequences"
      ]
    },
    {
      "cell_type": "code",
      "source": [
        "# get the data\n",
        "!wget --no-check-certificate \\\n",
        "    https://drive.google.com/uc?id=13ySLC_ue6Umt9RJYSeM2t-V0kCv-4C-P \\\n",
        "    -O /tmp/sentiment.csv"
      ],
      "metadata": {
        "colab": {
          "base_uri": "https://localhost:8080/"
        },
        "id": "usvltUZp-t-d",
        "outputId": "e0ea17ed-b0e4-4c3d-eb33-9f35deeb6e9c"
      },
      "execution_count": 6,
      "outputs": [
        {
          "output_type": "stream",
          "name": "stdout",
          "text": [
            "--2023-06-26 20:06:02--  https://drive.google.com/uc?id=13ySLC_ue6Umt9RJYSeM2t-V0kCv-4C-P\n",
            "Resolving drive.google.com (drive.google.com)... 74.125.203.100, 74.125.203.113, 74.125.203.139, ...\n",
            "Connecting to drive.google.com (drive.google.com)|74.125.203.100|:443... connected.\n",
            "HTTP request sent, awaiting response... 303 See Other\n",
            "Location: https://doc-08-ak-docs.googleusercontent.com/docs/securesc/ha0ro937gcuc7l7deffksulhg5h7mbp1/gtecup6bbje361j33lmi1irmt76h2cve/1687809900000/11118900490791463723/*/13ySLC_ue6Umt9RJYSeM2t-V0kCv-4C-P?uuid=47591f5f-7b95-4715-9a0b-2f0e0b3cb085 [following]\n",
            "Warning: wildcards not supported in HTTP.\n",
            "--2023-06-26 20:06:03--  https://doc-08-ak-docs.googleusercontent.com/docs/securesc/ha0ro937gcuc7l7deffksulhg5h7mbp1/gtecup6bbje361j33lmi1irmt76h2cve/1687809900000/11118900490791463723/*/13ySLC_ue6Umt9RJYSeM2t-V0kCv-4C-P?uuid=47591f5f-7b95-4715-9a0b-2f0e0b3cb085\n",
            "Resolving doc-08-ak-docs.googleusercontent.com (doc-08-ak-docs.googleusercontent.com)... 64.233.188.132, 2404:6800:4008:c06::84\n",
            "Connecting to doc-08-ak-docs.googleusercontent.com (doc-08-ak-docs.googleusercontent.com)|64.233.188.132|:443... connected.\n",
            "HTTP request sent, awaiting response... 200 OK\n",
            "Length: 127831 (125K) [text/csv]\n",
            "Saving to: ‘/tmp/sentiment.csv’\n",
            "\n",
            "/tmp/sentiment.csv  100%[===================>] 124.83K  --.-KB/s    in 0.001s  \n",
            "\n",
            "2023-06-26 20:06:03 (106 MB/s) - ‘/tmp/sentiment.csv’ saved [127831/127831]\n",
            "\n"
          ]
        }
      ]
    },
    {
      "cell_type": "code",
      "source": [
        "import numpy as np\n",
        "import pandas as pd\n",
        "\n",
        "# read the dataset into a dataframe\n",
        "dataset = pd.read_csv('/tmp/sentiment.csv')\n",
        "\n",
        "# define sentences and labels as lists\n",
        "sentences = dataset['text'].tolist()\n",
        "labels = dataset['sentiment'].tolist()\n",
        "\n",
        "# seperate sentences and labels into training and test sets\n",
        "training_size = int(len(sentences) * 0.8)\n",
        "\n",
        "training_sentences = sentences[0:training_size]\n",
        "training_labels = labels[0:training_size]\n",
        "testing_sentences = sentences[training_size:]\n",
        "testing_labels = labels[training_size:]\n",
        "\n",
        "# convert labels into numpy array for training and testing\n",
        "training_labels_final = np.array(training_labels)\n",
        "testing_labels_final = np.array(testing_labels)"
      ],
      "metadata": {
        "id": "v_vOwYff-ybI"
      },
      "execution_count": 11,
      "outputs": []
    },
    {
      "cell_type": "code",
      "source": [
        "# tokenize the data\n",
        "# this time decrease the vocab_size and add an out of vocab token\n",
        "\n",
        "vocab_size = 50\n",
        "embedding_dim = 16\n",
        "max_length = 50\n",
        "trunc_type = 'post'\n",
        "padding_type= 'post'\n",
        "oov_tok = '<OOV>'\n",
        "\n",
        "# create an instance of the tokenizer\n",
        "tokenizer = Tokenizer(num_words=vocab_size, oov_token=oov_tok)\n",
        "\n",
        "tokenizer.fit_on_texts(training_sentences)\n",
        "word_index = tokenizer.word_index\n",
        "training_sequences = tokenizer.texts_to_sequences(training_sentences)\n",
        "training_padded = pad_sequences(training_sequences, maxlen=max_length,\n",
        "                                padding=padding_type, truncating=trunc_type)\n",
        "\n",
        "testing_sequences = tokenizer.texts_to_sequences(testing_sentences)\n",
        "testing_padded = pad_sequences(testing_sequences, maxlen=max_length,\n",
        "                               padding=padding_type, truncating=trunc_type)"
      ],
      "metadata": {
        "id": "xMzeVIceAMDD"
      },
      "execution_count": 12,
      "outputs": []
    },
    {
      "cell_type": "code",
      "source": [
        "# train the model\n",
        "# use GlobalAveragePooling1D\n",
        "model = tf.keras.Sequential([\n",
        "    tf.keras.layers.Embedding(vocab_size, embedding_dim, input_length=max_length),\n",
        "    tf.keras.layers.GlobalAveragePooling1D(),\n",
        "    tf.keras.layers.Dense(6, activation='relu'),\n",
        "    tf.keras.layers.Dense(1, activation='sigmoid')\n",
        "])\n",
        "\n",
        "model.compile(loss='binary_crossentropy',\n",
        "              optimizer='adam',\n",
        "              metrics=['accuracy'])\n",
        "model.summary()"
      ],
      "metadata": {
        "colab": {
          "base_uri": "https://localhost:8080/"
        },
        "id": "8cdbMVI6VKwo",
        "outputId": "faa57d1f-e19e-4eb9-a471-4c1c546ed871"
      },
      "execution_count": 10,
      "outputs": [
        {
          "output_type": "stream",
          "name": "stdout",
          "text": [
            "Model: \"sequential\"\n",
            "_________________________________________________________________\n",
            " Layer (type)                Output Shape              Param #   \n",
            "=================================================================\n",
            " embedding (Embedding)       (None, 50, 16)            800       \n",
            "                                                                 \n",
            " global_average_pooling1d (G  (None, 16)               0         \n",
            " lobalAveragePooling1D)                                          \n",
            "                                                                 \n",
            " dense (Dense)               (None, 6)                 102       \n",
            "                                                                 \n",
            " dense_1 (Dense)             (None, 1)                 7         \n",
            "                                                                 \n",
            "=================================================================\n",
            "Total params: 909\n",
            "Trainable params: 909\n",
            "Non-trainable params: 0\n",
            "_________________________________________________________________\n"
          ]
        }
      ]
    },
    {
      "cell_type": "code",
      "source": [
        "num_epochs = 30\n",
        "history = model.fit(training_padded, training_labels_final,\n",
        "                    epochs=num_epochs, validation_data=(testing_padded,\n",
        "                                                        testing_labels_final))"
      ],
      "metadata": {
        "colab": {
          "base_uri": "https://localhost:8080/"
        },
        "id": "AaYzQK07WLxJ",
        "outputId": "231fa8a7-a5a6-434c-e4a5-a0f87b3ee87b"
      },
      "execution_count": 13,
      "outputs": [
        {
          "output_type": "stream",
          "name": "stdout",
          "text": [
            "Epoch 1/30\n",
            "50/50 [==============================] - 2s 8ms/step - loss: 0.6923 - accuracy: 0.5235 - val_loss: 0.6985 - val_accuracy: 0.4110\n",
            "Epoch 2/30\n",
            "50/50 [==============================] - 0s 3ms/step - loss: 0.6911 - accuracy: 0.5223 - val_loss: 0.7001 - val_accuracy: 0.4110\n",
            "Epoch 3/30\n",
            "50/50 [==============================] - 0s 4ms/step - loss: 0.6899 - accuracy: 0.5235 - val_loss: 0.6989 - val_accuracy: 0.4185\n",
            "Epoch 4/30\n",
            "50/50 [==============================] - 0s 3ms/step - loss: 0.6883 - accuracy: 0.5323 - val_loss: 0.6983 - val_accuracy: 0.4411\n",
            "Epoch 5/30\n",
            "50/50 [==============================] - 0s 4ms/step - loss: 0.6859 - accuracy: 0.5392 - val_loss: 0.6935 - val_accuracy: 0.5013\n",
            "Epoch 6/30\n",
            "50/50 [==============================] - 0s 4ms/step - loss: 0.6830 - accuracy: 0.5731 - val_loss: 0.6921 - val_accuracy: 0.4962\n",
            "Epoch 7/30\n",
            "50/50 [==============================] - 0s 3ms/step - loss: 0.6788 - accuracy: 0.5769 - val_loss: 0.6889 - val_accuracy: 0.5063\n",
            "Epoch 8/30\n",
            "50/50 [==============================] - 0s 4ms/step - loss: 0.6740 - accuracy: 0.5957 - val_loss: 0.6794 - val_accuracy: 0.5614\n",
            "Epoch 9/30\n",
            "50/50 [==============================] - 0s 4ms/step - loss: 0.6685 - accuracy: 0.6133 - val_loss: 0.6703 - val_accuracy: 0.5890\n",
            "Epoch 10/30\n",
            "50/50 [==============================] - 0s 4ms/step - loss: 0.6606 - accuracy: 0.6234 - val_loss: 0.6708 - val_accuracy: 0.5714\n",
            "Epoch 11/30\n",
            "50/50 [==============================] - 0s 4ms/step - loss: 0.6530 - accuracy: 0.6271 - val_loss: 0.6604 - val_accuracy: 0.5915\n",
            "Epoch 12/30\n",
            "50/50 [==============================] - 0s 3ms/step - loss: 0.6429 - accuracy: 0.6428 - val_loss: 0.6471 - val_accuracy: 0.6341\n",
            "Epoch 13/30\n",
            "50/50 [==============================] - 0s 4ms/step - loss: 0.6355 - accuracy: 0.6472 - val_loss: 0.6505 - val_accuracy: 0.6015\n",
            "Epoch 14/30\n",
            "50/50 [==============================] - 0s 3ms/step - loss: 0.6255 - accuracy: 0.6560 - val_loss: 0.6243 - val_accuracy: 0.6792\n",
            "Epoch 15/30\n",
            "50/50 [==============================] - 0s 4ms/step - loss: 0.6167 - accuracy: 0.6704 - val_loss: 0.6146 - val_accuracy: 0.7018\n",
            "Epoch 16/30\n",
            "50/50 [==============================] - 0s 4ms/step - loss: 0.6074 - accuracy: 0.6717 - val_loss: 0.6279 - val_accuracy: 0.6190\n",
            "Epoch 17/30\n",
            "50/50 [==============================] - 0s 4ms/step - loss: 0.5994 - accuracy: 0.6742 - val_loss: 0.6143 - val_accuracy: 0.6516\n",
            "Epoch 18/30\n",
            "50/50 [==============================] - 0s 4ms/step - loss: 0.5923 - accuracy: 0.6717 - val_loss: 0.6035 - val_accuracy: 0.6842\n",
            "Epoch 19/30\n",
            "50/50 [==============================] - 0s 3ms/step - loss: 0.5858 - accuracy: 0.6786 - val_loss: 0.5910 - val_accuracy: 0.6967\n",
            "Epoch 20/30\n",
            "50/50 [==============================] - 0s 4ms/step - loss: 0.5811 - accuracy: 0.6899 - val_loss: 0.5889 - val_accuracy: 0.6992\n",
            "Epoch 21/30\n",
            "50/50 [==============================] - 0s 4ms/step - loss: 0.5766 - accuracy: 0.6830 - val_loss: 0.5980 - val_accuracy: 0.6767\n",
            "Epoch 22/30\n",
            "50/50 [==============================] - 0s 3ms/step - loss: 0.5735 - accuracy: 0.6905 - val_loss: 0.5928 - val_accuracy: 0.6842\n",
            "Epoch 23/30\n",
            "50/50 [==============================] - 0s 3ms/step - loss: 0.5714 - accuracy: 0.6893 - val_loss: 0.5904 - val_accuracy: 0.6792\n",
            "Epoch 24/30\n",
            "50/50 [==============================] - 0s 4ms/step - loss: 0.5667 - accuracy: 0.6893 - val_loss: 0.5848 - val_accuracy: 0.6867\n",
            "Epoch 25/30\n",
            "50/50 [==============================] - 0s 4ms/step - loss: 0.5656 - accuracy: 0.6836 - val_loss: 0.5731 - val_accuracy: 0.6992\n",
            "Epoch 26/30\n",
            "50/50 [==============================] - 0s 4ms/step - loss: 0.5659 - accuracy: 0.6943 - val_loss: 0.5767 - val_accuracy: 0.6992\n",
            "Epoch 27/30\n",
            "50/50 [==============================] - 0s 3ms/step - loss: 0.5631 - accuracy: 0.6880 - val_loss: 0.5727 - val_accuracy: 0.7018\n",
            "Epoch 28/30\n",
            "50/50 [==============================] - 0s 4ms/step - loss: 0.5609 - accuracy: 0.7024 - val_loss: 0.5767 - val_accuracy: 0.6992\n",
            "Epoch 29/30\n",
            "50/50 [==============================] - 0s 4ms/step - loss: 0.5611 - accuracy: 0.6893 - val_loss: 0.5715 - val_accuracy: 0.6967\n",
            "Epoch 30/30\n",
            "50/50 [==============================] - 0s 5ms/step - loss: 0.5583 - accuracy: 0.6949 - val_loss: 0.5793 - val_accuracy: 0.6917\n"
          ]
        }
      ]
    },
    {
      "cell_type": "code",
      "source": [
        "#visualize the data\n",
        "import matplotlib.pyplot as plt\n",
        "\n",
        "def plot_graphs(history, string):\n",
        "  plt.plot(history.history[string])\n",
        "  plt.plot(history.history['val_'+string])\n",
        "  plt.xlabel('Epochs')\n",
        "  plt.ylabel(string)\n",
        "  plt.legend([string, 'val_'+string])\n",
        "  plt.show()\n",
        "\n",
        "plot_graphs(history, 'accuracy')\n",
        "plot_graphs(history, 'loss')"
      ],
      "metadata": {
        "colab": {
          "base_uri": "https://localhost:8080/",
          "height": 881
        },
        "id": "WVPnZN_YX_ZS",
        "outputId": "08102cb1-c1a8-4b53-c61b-6a4321c29bf1"
      },
      "execution_count": 15,
      "outputs": [
        {
          "output_type": "display_data",
          "data": {
            "text/plain": [
              "<Figure size 640x480 with 1 Axes>"
            ],
            "image/png": "[encoded data removed]"
          },
          "metadata": {}
        },
        {
          "output_type": "display_data",
          "data": {
            "text/plain": [
              "<Figure size 640x480 with 1 Axes>"
            ],
            "image/png": "[encoded data removed]"
          },
          "metadata": {}
        }
      ]
    },
    {
      "cell_type": "code",
      "source": [
        "# obtain weights for the embedding layer\n",
        "e = model.layers[0]\n",
        "weights = e.get_weights()[0]\n",
        "print(weights.shape)"
      ],
      "metadata": {
        "colab": {
          "base_uri": "https://localhost:8080/"
        },
        "id": "ynm9NbnNY5Gr",
        "outputId": "01253af9-e879-414f-ce83-b0488d1537ac"
      },
      "execution_count": 16,
      "outputs": [
        {
          "output_type": "stream",
          "name": "stdout",
          "text": [
            "(50, 16)\n"
          ]
        }
      ]
    },
    {
      "cell_type": "code",
      "source": [
        "import io\n",
        "\n",
        "#create the reverse word index\n",
        "reverse_word_index = dict([(value, key) for (key, value) in word_index.items()])\n",
        "\n",
        "# embedding vectors and metadata\n",
        "out_v = io.open('vecs.tsv', 'w', encoding='utf-8')\n",
        "out_m = io.open('meta.tsv', 'w', encoding='utf-8')\n",
        "for word_num in range(1, vocab_size):\n",
        "  word = reverse_word_index[word_num]\n",
        "  embeddings = weights[word_num]\n",
        "  out_m.write(word + '\\n')\n",
        "  out_v.write('\\t'.join([str(x) for x in embeddings]) + 'n')\n",
        "out_v.close()\n",
        "out_m.close()"
      ],
      "metadata": {
        "id": "H0VtYBqrZTXP"
      },
      "execution_count": 17,
      "outputs": []
    },
    {
      "cell_type": "code",
      "source": [
        "from sqlalchemy.sql.elements import ExpressionClauseList\n",
        "# download the files\n",
        "try:\n",
        "  from google.colab import files\n",
        "except ImportError:\n",
        "  pass\n",
        "else:\n",
        "  files.download('vecs.tsv')\n",
        "  files.download('meta.tsv')"
      ],
      "metadata": {
        "colab": {
          "base_uri": "https://localhost:8080/",
          "height": 17
        },
        "id": "ia980Sn2bh1G",
        "outputId": "d969b848-031f-4123-b36f-fc9dcd3a38ad"
      },
      "execution_count": 18,
      "outputs": [
        {
          "output_type": "display_data",
          "data": {
            "text/plain": [
              "<IPython.core.display.Javascript object>"
            ],
            "application/javascript": [
              "\n",
              "    async function download(id, filename, size) {\n",
              "      if (!google.colab.kernel.accessAllowed) {\n",
              "        return;\n",
              "      }\n",
              "      const div = document.createElement('div');\n",
              "      const label = document.createElement('label');\n",
              "      label.textContent = `Downloading \"${filename}\": `;\n",
              "      div.appendChild(label);\n",
              "      const progress = document.createElement('progress');\n",
              "      progress.max = size;\n",
              "      div.appendChild(progress);\n",
              "      document.body.appendChild(div);\n",
              "\n",
              "      const buffers = [];\n",
              "      let downloaded = 0;\n",
              "\n",
              "      const channel = await google.colab.kernel.comms.open(id);\n",
              "      // Send a message to notify the kernel that we're ready.\n",
              "      channel.send({})\n",
              "\n",
              "      for await (const message of channel.messages) {\n",
              "        // Send a message to notify the kernel that we're ready.\n",
              "        channel.send({})\n",
              "        if (message.buffers) {\n",
              "          for (const buffer of message.buffers) {\n",
              "            buffers.push(buffer);\n",
              "            downloaded += buffer.byteLength;\n",
              "            progress.value = downloaded;\n",
              "          }\n",
              "        }\n",
              "      }\n",
              "      const blob = new Blob(buffers, {type: 'application/binary'});\n",
              "      const a = document.createElement('a');\n",
              "      a.href = window.URL.createObjectURL(blob);\n",
              "      a.download = filename;\n",
              "      div.appendChild(a);\n",
              "      a.click();\n",
              "      div.remove();\n",
              "    }\n",
              "  "
            ]
          },
          "metadata": {}
        },
        {
          "output_type": "display_data",
          "data": {
            "text/plain": [
              "<IPython.core.display.Javascript object>"
            ],
            "application/javascript": [
              "download(\"download_2cc5262c-344e-42f6-9737-0990049cdbf0\", \"vecs.tsv\", 9012)"
            ]
          },
          "metadata": {}
        },
        {
          "output_type": "display_data",
          "data": {
            "text/plain": [
              "<IPython.core.display.Javascript object>"
            ],
            "application/javascript": [
              "\n",
              "    async function download(id, filename, size) {\n",
              "      if (!google.colab.kernel.accessAllowed) {\n",
              "        return;\n",
              "      }\n",
              "      const div = document.createElement('div');\n",
              "      const label = document.createElement('label');\n",
              "      label.textContent = `Downloading \"${filename}\": `;\n",
              "      div.appendChild(label);\n",
              "      const progress = document.createElement('progress');\n",
              "      progress.max = size;\n",
              "      div.appendChild(progress);\n",
              "      document.body.appendChild(div);\n",
              "\n",
              "      const buffers = [];\n",
              "      let downloaded = 0;\n",
              "\n",
              "      const channel = await google.colab.kernel.comms.open(id);\n",
              "      // Send a message to notify the kernel that we're ready.\n",
              "      channel.send({})\n",
              "\n",
              "      for await (const message of channel.messages) {\n",
              "        // Send a message to notify the kernel that we're ready.\n",
              "        channel.send({})\n",
              "        if (message.buffers) {\n",
              "          for (const buffer of message.buffers) {\n",
              "            buffers.push(buffer);\n",
              "            downloaded += buffer.byteLength;\n",
              "            progress.value = downloaded;\n",
              "          }\n",
              "        }\n",
              "      }\n",
              "      const blob = new Blob(buffers, {type: 'application/binary'});\n",
              "      const a = document.createElement('a');\n",
              "      a.href = window.URL.createObjectURL(blob);\n",
              "      a.download = filename;\n",
              "      div.appendChild(a);\n",
              "      a.click();\n",
              "      div.remove();\n",
              "    }\n",
              "  "
            ]
          },
          "metadata": {}
        },
        {
          "output_type": "display_data",
          "data": {
            "text/plain": [
              "<IPython.core.display.Javascript object>"
            ],
            "application/javascript": [
              "download(\"download_c3ff0df3-d414-49af-b9b8-047e8ee40aa3\", \"meta.tsv\", 223)"
            ]
          },
          "metadata": {}
        }
      ]
    },
    {
      "cell_type": "code",
      "source": [
        "# predict sentiment in new reviews\n",
        "fake_reviews = [\n",
        "    'I love this phone', 'I hate noodles',\n",
        "    'Everything was cold',\n",
        "    'Everything was hot exactly as I wanted',\n",
        "    'Everything was yellow',\n",
        "    'the host seated us immediately',\n",
        "    'they gave us free chocolate cake and did not charge us',\n",
        "    'not sure aabout the wilted flowers on the table',\n",
        "    'only works when I stand on tippy toes',\n",
        "    'does not work when I stand on my hands'\n",
        "]\n",
        "\n",
        "print(fake_reviews)\n",
        "\n",
        "# create sequences\n",
        "padding_type = 'post'\n",
        "sample_sentences = tokenizer.texts_to_sequences(fake_reviews)\n",
        "fakes_padded = pad_sequences(sample_sentences, padding=padding_type, maxlen=max_length)\n",
        "\n",
        "print('These reviews are completely genuine')\n",
        "\n",
        "classes = model.predict(fakes_padded)\n",
        "\n",
        "for x in range(len(fake_reviews)):\n",
        "  print(fake_reviews[x])\n",
        "  print(classes[x])\n",
        "  print('\\n')"
      ],
      "metadata": {
        "colab": {
          "base_uri": "https://localhost:8080/"
        },
        "id": "WCaQZYARb7yu",
        "outputId": "1b6d34dd-f8d5-4cce-b8ad-f23c8381b7f7"
      },
      "execution_count": 22,
      "outputs": [
        {
          "output_type": "stream",
          "name": "stdout",
          "text": [
            "['I love this phone', 'I hate noodles', 'Everything was cold', 'Everything was hot exactly as I wanted', 'Everything was yellow', 'the host seated us immediately', 'they gave us free chocolate cake and did not charge us', 'not sure aabout the wilted flowers on the table', 'only works when I stand on tippy toes', 'does not work when I stand on my hands']\n",
            "These reviews are completely genuine\n",
            "1/1 [==============================] - 0s 131ms/step\n",
            "I love this phone\n",
            "[0.5452864]\n",
            "\n",
            "\n",
            "I hate noodles\n",
            "[0.5092631]\n",
            "\n",
            "\n",
            "Everything was cold\n",
            "[0.4704869]\n",
            "\n",
            "\n",
            "Everything was hot exactly as I wanted\n",
            "[0.37368926]\n",
            "\n",
            "\n",
            "Everything was yellow\n",
            "[0.4704869]\n",
            "\n",
            "\n",
            "the host seated us immediately\n",
            "[0.46298808]\n",
            "\n",
            "\n",
            "they gave us free chocolate cake and did not charge us\n",
            "[0.19591486]\n",
            "\n",
            "\n",
            "not sure aabout the wilted flowers on the table\n",
            "[0.16703025]\n",
            "\n",
            "\n",
            "only works when I stand on tippy toes\n",
            "[0.80621153]\n",
            "\n",
            "\n",
            "does not work when I stand on my hands\n",
            "[0.16685475]\n",
            "\n",
            "\n"
          ]
        }
      ]
    },
    {
      "cell_type": "code",
      "source": [],
      "metadata": {
        "id": "NcuXs-Usd5c7"
      },
      "execution_count": null,
      "outputs": []
    }
  ]
}