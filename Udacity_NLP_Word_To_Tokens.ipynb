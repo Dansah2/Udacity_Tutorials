{
  "nbformat": 4,
  "nbformat_minor": 0,
  "metadata": {
    "colab": {
      "provenance": [],
      "gpuType": "T4",
      "authorship_tag": "ABX9TyOefXAoupJ7oo/FK1ygU8a9",
      "include_colab_link": true
    },
    "kernelspec": {
      "name": "python3",
      "display_name": "Python 3"
    },
    "language_info": {
      "name": "python"
    },
    "accelerator": "GPU"
  },
  "cells": [
    {
      "cell_type": "markdown",
      "metadata": {
        "id": "view-in-github",
        "colab_type": "text"
      },
      "source": [
        "<a href=\"https://colab.research.google.com/github/Dansah2/Udacity_Tutorials/blob/main/Udacity_NLP_Word_To_Tokens.ipynb\" target=\"_parent\"><img src=\"https://colab.research.google.com/assets/colab-badge.svg\" alt=\"Open In Colab\"/></a>"
      ]
    },
    {
      "cell_type": "code",
      "execution_count": 1,
      "metadata": {
        "id": "V0CERzPcb56Z"
      },
      "outputs": [],
      "source": [
        "from tensorflow.keras.preprocessing.text import Tokenizer"
      ]
    },
    {
      "cell_type": "code",
      "source": [
        "# write sentences\n",
        "sentences = [\n",
        "    'My favorite food is ice cream',\n",
        "    'do yo like ice cream too?',\n",
        "    'My dog likes ice cream!',\n",
        "    'your favorite flavor of icecream is chocolate',\n",
        "    \"chocolate isn't good for dogs\"\n",
        "    'your dog, your cat, and your parrot prefer broccoli'\n",
        "]"
      ],
      "metadata": {
        "id": "HI3xRHAmcMvf"
      },
      "execution_count": 2,
      "outputs": []
    },
    {
      "cell_type": "code",
      "source": [
        "# tokenize the words\n",
        "# 1) set the max number of words to tokenize\n",
        "# 2) set out of vocabulary 00V to represent words not in the index\n",
        "# 3) call fit_on_text(), this generates unique numbers for each word\n",
        "\n",
        "tokenizer = Tokenizer(num_words=100, oov_token='<OOV>')\n",
        "tokenizer.fit_on_texts(sentences)"
      ],
      "metadata": {
        "id": "2mGwPv0Ic34h"
      },
      "execution_count": 6,
      "outputs": []
    },
    {
      "cell_type": "code",
      "source": [
        "# take a peek at the word index\n",
        "word_index = tokenizer.word_index\n",
        "word_index"
      ],
      "metadata": {
        "colab": {
          "base_uri": "https://localhost:8080/"
        },
        "id": "tYn_-IhJdw-g",
        "outputId": "c5052979-82b3-4021-9f21-98313d2a9b76"
      },
      "execution_count": 9,
      "outputs": [
        {
          "output_type": "execute_result",
          "data": {
            "text/plain": [
              "{'<OOV>': 1,\n",
              " 'ice': 2,\n",
              " 'cream': 3,\n",
              " 'your': 4,\n",
              " 'my': 5,\n",
              " 'favorite': 6,\n",
              " 'is': 7,\n",
              " 'dog': 8,\n",
              " 'chocolate': 9,\n",
              " 'food': 10,\n",
              " 'do': 11,\n",
              " 'yo': 12,\n",
              " 'like': 13,\n",
              " 'too': 14,\n",
              " 'likes': 15,\n",
              " 'flavor': 16,\n",
              " 'of': 17,\n",
              " 'icecream': 18,\n",
              " \"isn't\": 19,\n",
              " 'good': 20,\n",
              " 'for': 21,\n",
              " 'dogsyour': 22,\n",
              " 'cat': 23,\n",
              " 'and': 24,\n",
              " 'parrot': 25,\n",
              " 'prefer': 26,\n",
              " 'broccoli': 27}"
            ]
          },
          "metadata": {},
          "execution_count": 9
        }
      ]
    },
    {
      "cell_type": "code",
      "source": [
        "# get the number for a given word\n",
        "word_index['favorite']"
      ],
      "metadata": {
        "colab": {
          "base_uri": "https://localhost:8080/"
        },
        "id": "b8oAFvvTd8_w",
        "outputId": "9eb7de40-68d5-4ead-9752-32f8c0a53297"
      },
      "execution_count": 8,
      "outputs": [
        {
          "output_type": "execute_result",
          "data": {
            "text/plain": [
              "6"
            ]
          },
          "metadata": {},
          "execution_count": 8
        }
      ]
    },
    {
      "cell_type": "code",
      "source": [
        "# create sequences for the sentences (ie, order the words)\n",
        "sequences = tokenizer.texts_to_sequences(sentences)\n",
        "sequences"
      ],
      "metadata": {
        "colab": {
          "base_uri": "https://localhost:8080/"
        },
        "id": "i2o6bHAcfAIn",
        "outputId": "350674ed-e401-4db9-e463-9221400d9329"
      },
      "execution_count": 10,
      "outputs": [
        {
          "output_type": "execute_result",
          "data": {
            "text/plain": [
              "[[5, 6, 10, 7, 2, 3],\n",
              " [11, 12, 13, 2, 3, 14],\n",
              " [5, 8, 15, 2, 3],\n",
              " [4, 6, 16, 17, 18, 7, 9],\n",
              " [9, 19, 20, 21, 22, 8, 4, 23, 24, 4, 25, 26, 27]]"
            ]
          },
          "metadata": {},
          "execution_count": 10
        }
      ]
    },
    {
      "cell_type": "code",
      "source": [
        "# sequence sentences which contain words not in the word index\n",
        "# this is where out of vocabulary words come into play\n",
        "# all of the 1's represent out of vocabulary words\n",
        "sentences2 = ['I like hot chocolate',\n",
        "              'My dogs and my hedgehog like kibble but my squirrel perfers grapes and my chickens like ice cream, preferably vanilla']\n",
        "\n",
        "sequences2 = tokenizer.texts_to_sequences(sentences2)\n",
        "sequences2"
      ],
      "metadata": {
        "colab": {
          "base_uri": "https://localhost:8080/"
        },
        "id": "YGJz1j6nfdUK",
        "outputId": "e02bf081-7192-457b-f9c5-825d11d14622"
      },
      "execution_count": 11,
      "outputs": [
        {
          "output_type": "execute_result",
          "data": {
            "text/plain": [
              "[[1, 13, 1, 9],\n",
              " [5, 1, 24, 5, 1, 13, 1, 1, 5, 1, 1, 1, 24, 5, 1, 13, 2, 3, 1, 1]]"
            ]
          },
          "metadata": {},
          "execution_count": 11
        }
      ]
    },
    {
      "cell_type": "code",
      "source": [],
      "metadata": {
        "id": "SOiudDPagomU"
      },
      "execution_count": null,
      "outputs": []
    }
  ]
}