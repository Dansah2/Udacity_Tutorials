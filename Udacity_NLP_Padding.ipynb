{
  "nbformat": 4,
  "nbformat_minor": 0,
  "metadata": {
    "colab": {
      "provenance": [],
      "authorship_tag": "ABX9TyMlc3JyialiQC2mOO3QRu+r",
      "include_colab_link": true
    },
    "kernelspec": {
      "name": "python3",
      "display_name": "Python 3"
    },
    "language_info": {
      "name": "python"
    }
  },
  "cells": [
    {
      "cell_type": "markdown",
      "metadata": {
        "id": "view-in-github",
        "colab_type": "text"
      },
      "source": [
        "<a href=\"https://colab.research.google.com/github/Dansah2/Udacity_Tutorials/blob/main/Udacity_NLP_Padding.ipynb\" target=\"_parent\"><img src=\"https://colab.research.google.com/assets/colab-badge.svg\" alt=\"Open In Colab\"/></a>"
      ]
    },
    {
      "cell_type": "code",
      "execution_count": 2,
      "metadata": {
        "id": "CEH2UfGpKc2-"
      },
      "outputs": [],
      "source": [
        "from tensorflow.keras.preprocessing.text import Tokenizer\n",
        "from tensorflow.keras.preprocessing.sequence import pad_sequences"
      ]
    },
    {
      "cell_type": "code",
      "source": [
        "# create sentences\n",
        "sentences = [\n",
        "    'My favorite food is ice cream',\n",
        "    'do you like ice cream too?',\n",
        "    'My dog like ice cream!',\n",
        "    'your favorite flavor of icecream is chocolate',\n",
        "    \"chocolate isn't goog for dogs\",\n",
        "    'your dog, your cat, and your parrot prefer broccoli'\n",
        "]\n",
        "print(sentences)"
      ],
      "metadata": {
        "colab": {
          "base_uri": "https://localhost:8080/"
        },
        "id": "PbD83-JCLVt_",
        "outputId": "04e34b8f-6f81-422f-ad6f-2ebe14634eae"
      },
      "execution_count": 4,
      "outputs": [
        {
          "output_type": "stream",
          "name": "stdout",
          "text": [
            "['My favorite food is ice cream', 'do you like ice cream too?', 'My dog like ice cream!', 'your favorite flavor of icecream is chocolate', \"chocolate isn't goog for dogs\", 'your dog, your cat, and your parrot prefer broccoli']\n"
          ]
        }
      ]
    },
    {
      "cell_type": "code",
      "source": [
        "# create tokenizer and define out of vocab token\n",
        "tokenizer = Tokenizer(num_words=100, oov_token='<OOV>')"
      ],
      "metadata": {
        "id": "w3aQnrV9L-1n"
      },
      "execution_count": 5,
      "outputs": []
    },
    {
      "cell_type": "code",
      "source": [
        "#tokenize the words\n",
        "tokenizer.fit_on_texts(sentences)\n",
        "word_index = tokenizer.word_index\n",
        "print(word_index)"
      ],
      "metadata": {
        "colab": {
          "base_uri": "https://localhost:8080/"
        },
        "id": "zMTeo_mcMck2",
        "outputId": "06e5e9fa-ac90-4cfc-ed98-743a75076549"
      },
      "execution_count": 6,
      "outputs": [
        {
          "output_type": "stream",
          "name": "stdout",
          "text": [
            "{'<OOV>': 1, 'your': 2, 'ice': 3, 'cream': 4, 'my': 5, 'favorite': 6, 'is': 7, 'like': 8, 'dog': 9, 'chocolate': 10, 'food': 11, 'do': 12, 'you': 13, 'too': 14, 'flavor': 15, 'of': 16, 'icecream': 17, \"isn't\": 18, 'goog': 19, 'for': 20, 'dogs': 21, 'cat': 22, 'and': 23, 'parrot': 24, 'prefer': 25, 'broccoli': 26}\n"
          ]
        }
      ]
    },
    {
      "cell_type": "code",
      "source": [
        "#convert sentences into sequences\n",
        "sequences = tokenizer.texts_to_sequences(sentences)\n",
        "print(sequences)"
      ],
      "metadata": {
        "colab": {
          "base_uri": "https://localhost:8080/"
        },
        "id": "i2pTEXXgNSC0",
        "outputId": "1a7c8f98-21d3-473c-a593-973dc013ed7c"
      },
      "execution_count": 7,
      "outputs": [
        {
          "output_type": "stream",
          "name": "stdout",
          "text": [
            "[[5, 6, 11, 7, 3, 4], [12, 13, 8, 3, 4, 14], [5, 9, 8, 3, 4], [2, 6, 15, 16, 17, 7, 10], [10, 18, 19, 20, 21], [2, 9, 2, 22, 23, 2, 24, 25, 26]]\n"
          ]
        }
      ]
    },
    {
      "cell_type": "code",
      "source": [
        "# making sequences all the same length using padding\n",
        "padded = pad_sequences(sequences)\n",
        "print('\\nWord Index =', word_index)\n",
        "print('\\nSequences = ', sequences)\n",
        "print('\\nPadded Sequences:')\n",
        "print(padded)"
      ],
      "metadata": {
        "colab": {
          "base_uri": "https://localhost:8080/"
        },
        "id": "lXOQ8z61Nfbe",
        "outputId": "5024062c-6c04-44b6-cd0c-ea2479a5c2b6"
      },
      "execution_count": 8,
      "outputs": [
        {
          "output_type": "stream",
          "name": "stdout",
          "text": [
            "\n",
            "Word Index = {'<OOV>': 1, 'your': 2, 'ice': 3, 'cream': 4, 'my': 5, 'favorite': 6, 'is': 7, 'like': 8, 'dog': 9, 'chocolate': 10, 'food': 11, 'do': 12, 'you': 13, 'too': 14, 'flavor': 15, 'of': 16, 'icecream': 17, \"isn't\": 18, 'goog': 19, 'for': 20, 'dogs': 21, 'cat': 22, 'and': 23, 'parrot': 24, 'prefer': 25, 'broccoli': 26}\n",
            "\n",
            "Sequences =  [[5, 6, 11, 7, 3, 4], [12, 13, 8, 3, 4, 14], [5, 9, 8, 3, 4], [2, 6, 15, 16, 17, 7, 10], [10, 18, 19, 20, 21], [2, 9, 2, 22, 23, 2, 24, 25, 26]]\n",
            "\n",
            "Padded Sequences:\n",
            "[[ 0  0  0  5  6 11  7  3  4]\n",
            " [ 0  0  0 12 13  8  3  4 14]\n",
            " [ 0  0  0  0  5  9  8  3  4]\n",
            " [ 0  0  2  6 15 16 17  7 10]\n",
            " [ 0  0  0  0 10 18 19 20 21]\n",
            " [ 2  9  2 22 23  2 24 25 26]]\n"
          ]
        }
      ]
    },
    {
      "cell_type": "code",
      "source": [
        "# play with the maxlen hyperparameter by increasing it\n",
        "padded = pad_sequences(sequences, maxlen=18)\n",
        "print(padded)"
      ],
      "metadata": {
        "colab": {
          "base_uri": "https://localhost:8080/"
        },
        "id": "vGR11-aJOI6b",
        "outputId": "4c5f5284-bdd9-42e0-8f0c-c4e5a2e6fdb9"
      },
      "execution_count": 9,
      "outputs": [
        {
          "output_type": "stream",
          "name": "stdout",
          "text": [
            "[[ 0  0  0  0  0  0  0  0  0  0  0  0  5  6 11  7  3  4]\n",
            " [ 0  0  0  0  0  0  0  0  0  0  0  0 12 13  8  3  4 14]\n",
            " [ 0  0  0  0  0  0  0  0  0  0  0  0  0  5  9  8  3  4]\n",
            " [ 0  0  0  0  0  0  0  0  0  0  0  2  6 15 16 17  7 10]\n",
            " [ 0  0  0  0  0  0  0  0  0  0  0  0  0 10 18 19 20 21]\n",
            " [ 0  0  0  0  0  0  0  0  0  2  9  2 22 23  2 24 25 26]]\n"
          ]
        }
      ]
    },
    {
      "cell_type": "code",
      "source": [
        "# play with the padding hyperparameter by switching\n",
        "#the padding to the end of the sequence\n",
        "padded = pad_sequences(sequences, maxlen=18, padding='post')\n",
        "print(padded)"
      ],
      "metadata": {
        "colab": {
          "base_uri": "https://localhost:8080/"
        },
        "id": "aFkkAuMLOdHM",
        "outputId": "cc66222f-52c9-48f6-8ec9-50f5b319f9b7"
      },
      "execution_count": 11,
      "outputs": [
        {
          "output_type": "stream",
          "name": "stdout",
          "text": [
            "[[ 5  6 11  7  3  4  0  0  0  0  0  0  0  0  0  0  0  0]\n",
            " [12 13  8  3  4 14  0  0  0  0  0  0  0  0  0  0  0  0]\n",
            " [ 5  9  8  3  4  0  0  0  0  0  0  0  0  0  0  0  0  0]\n",
            " [ 2  6 15 16 17  7 10  0  0  0  0  0  0  0  0  0  0  0]\n",
            " [10 18 19 20 21  0  0  0  0  0  0  0  0  0  0  0  0  0]\n",
            " [ 2  9  2 22 23  2 24 25 26  0  0  0  0  0  0  0  0  0]]\n"
          ]
        }
      ]
    },
    {
      "cell_type": "code",
      "source": [
        "# play with the maxlen hpyerparameter by restricting\n",
        "#the length of the sequence\n",
        "padded = pad_sequences(sequences, maxlen=5)\n",
        "print(padded)"
      ],
      "metadata": {
        "colab": {
          "base_uri": "https://localhost:8080/"
        },
        "id": "2qNWDVK0Otgt",
        "outputId": "a4879c5e-4da8-407e-a8f9-234a55198cd7"
      },
      "execution_count": 13,
      "outputs": [
        {
          "output_type": "stream",
          "name": "stdout",
          "text": [
            "[[ 6 11  7  3  4]\n",
            " [13  8  3  4 14]\n",
            " [ 5  9  8  3  4]\n",
            " [15 16 17  7 10]\n",
            " [10 18 19 20 21]\n",
            " [23  2 24 25 26]]\n"
          ]
        }
      ]
    },
    {
      "cell_type": "code",
      "source": [
        "# handeling out of vocab words by using out of vocab tokens\n",
        "\n",
        "test_data = [\n",
        "    \"my best friend's favorite ice cream flavor is strawberry\",\n",
        "    \"my dog's best friend is a manatee\"\n",
        "]\n",
        "print(test_data)\n",
        "\n",
        "# check which number corresponds to the out of vocab word\n",
        "print(\"<OOV> has the\", word_index['<OOV>'], 'in the word index')\n",
        "\n",
        "# convert the test sentences to sequences\n",
        "test_seq = tokenizer.texts_to_sequences(test_data)\n",
        "print(\"\\nTest Sequence = \", test_seq)\n",
        "\n",
        "# pad the sequences\n",
        "padded = pad_sequences(test_seq, maxlen=10)\n",
        "print('\\nPadded Test Sequences: ')\n",
        "\n",
        "# note that 1 appears whever there's a word not in the index\n",
        "print(padded)"
      ],
      "metadata": {
        "colab": {
          "base_uri": "https://localhost:8080/"
        },
        "id": "1ra3IMwnPKAL",
        "outputId": "79e590c2-e84e-42ea-ab2c-9b47c5d87cf7"
      },
      "execution_count": 14,
      "outputs": [
        {
          "output_type": "stream",
          "name": "stdout",
          "text": [
            "[\"my best friend's favorite ice cream flavor is strawberry\", \"my dog's best friend is a manatee\"]\n",
            "<OOV> has the 1 in the word index\n",
            "\n",
            "Test Sequence =  [[5, 1, 1, 6, 3, 4, 15, 7, 1], [5, 1, 1, 1, 7, 1, 1]]\n",
            "\n",
            "Padded Test Sequences: \n",
            "[[ 0  5  1  1  6  3  4 15  7  1]\n",
            " [ 0  0  0  5  1  1  1  7  1  1]]\n"
          ]
        }
      ]
    }
  ]
}